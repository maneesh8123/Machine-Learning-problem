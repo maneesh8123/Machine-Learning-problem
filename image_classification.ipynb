{
  "nbformat": 4,
  "nbformat_minor": 0,
  "metadata": {
    "colab": {
      "name": "image_classification.ipynb",
      "provenance": [],
      "collapsed_sections": [],
      "mount_file_id": "12jnz5iEj-cgM_6t6-6StsyuRt4L0Db8g",
      "authorship_tag": "ABX9TyPIv4HCC86o6Azrmsf5kovc",
      "include_colab_link": true
    },
    "kernelspec": {
      "name": "python3",
      "display_name": "Python 3"
    },
    "language_info": {
      "name": "python"
    },
    "accelerator": "GPU"
  },
  "cells": [
    {
      "cell_type": "markdown",
      "metadata": {
        "id": "view-in-github",
        "colab_type": "text"
      },
      "source": [
        "<a href=\"https://colab.research.google.com/github/maneesh8123/Machine-Learning-problem/blob/main/image_classification.ipynb\" target=\"_parent\"><img src=\"https://colab.research.google.com/assets/colab-badge.svg\" alt=\"Open In Colab\"/></a>"
      ]
    },
    {
      "cell_type": "code",
      "execution_count": null,
      "metadata": {
        "colab": {
          "base_uri": "https://localhost:8080/"
        },
        "id": "ZF2ErdBvf6pv",
        "outputId": "82c87824-1bf2-468f-8b91-b2e430600d6e"
      },
      "outputs": [
        {
          "output_type": "stream",
          "name": "stdout",
          "text": [
            "Thu Feb 10 11:14:58 2022       \n",
            "+-----------------------------------------------------------------------------+\n",
            "| NVIDIA-SMI 460.32.03    Driver Version: 460.32.03    CUDA Version: 11.2     |\n",
            "|-------------------------------+----------------------+----------------------+\n",
            "| GPU  Name        Persistence-M| Bus-Id        Disp.A | Volatile Uncorr. ECC |\n",
            "| Fan  Temp  Perf  Pwr:Usage/Cap|         Memory-Usage | GPU-Util  Compute M. |\n",
            "|                               |                      |               MIG M. |\n",
            "|===============================+======================+======================|\n",
            "|   0  Tesla K80           Off  | 00000000:00:04.0 Off |                    0 |\n",
            "| N/A   32C    P8    28W / 149W |      0MiB / 11441MiB |      0%      Default |\n",
            "|                               |                      |                  N/A |\n",
            "+-------------------------------+----------------------+----------------------+\n",
            "                                                                               \n",
            "+-----------------------------------------------------------------------------+\n",
            "| Processes:                                                                  |\n",
            "|  GPU   GI   CI        PID   Type   Process name                  GPU Memory |\n",
            "|        ID   ID                                                   Usage      |\n",
            "|=============================================================================|\n",
            "|  No running processes found                                                 |\n",
            "+-----------------------------------------------------------------------------+\n"
          ]
        }
      ],
      "source": [
        "!nvidia-smi\n"
      ]
    },
    {
      "cell_type": "code",
      "source": [
        "!pip install tensorflow-gpu"
      ],
      "metadata": {
        "colab": {
          "base_uri": "https://localhost:8080/",
          "height": 1000
        },
        "id": "nREbBrBAjEmB",
        "outputId": "9cc8897d-ae92-4f29-ff97-31b0612de9de"
      },
      "execution_count": null,
      "outputs": [
        {
          "output_type": "stream",
          "name": "stdout",
          "text": [
            "Collecting tensorflow-gpu\n",
            "  Downloading tensorflow_gpu-2.8.0-cp37-cp37m-manylinux2010_x86_64.whl (497.5 MB)\n",
            "\u001b[K     |████████████████████████████████| 497.5 MB 23 kB/s \n",
            "\u001b[?25hRequirement already satisfied: h5py>=2.9.0 in /usr/local/lib/python3.7/dist-packages (from tensorflow-gpu) (3.1.0)\n",
            "Requirement already satisfied: flatbuffers>=1.12 in /usr/local/lib/python3.7/dist-packages (from tensorflow-gpu) (2.0)\n",
            "Requirement already satisfied: gast>=0.2.1 in /usr/local/lib/python3.7/dist-packages (from tensorflow-gpu) (0.4.0)\n",
            "Requirement already satisfied: opt-einsum>=2.3.2 in /usr/local/lib/python3.7/dist-packages (from tensorflow-gpu) (3.3.0)\n",
            "Requirement already satisfied: grpcio<2.0,>=1.24.3 in /usr/local/lib/python3.7/dist-packages (from tensorflow-gpu) (1.43.0)\n",
            "Collecting keras<2.9,>=2.8.0rc0\n",
            "  Downloading keras-2.8.0-py2.py3-none-any.whl (1.4 MB)\n",
            "\u001b[K     |████████████████████████████████| 1.4 MB 37.0 MB/s \n",
            "\u001b[?25hRequirement already satisfied: termcolor>=1.1.0 in /usr/local/lib/python3.7/dist-packages (from tensorflow-gpu) (1.1.0)\n",
            "Requirement already satisfied: typing-extensions>=3.6.6 in /usr/local/lib/python3.7/dist-packages (from tensorflow-gpu) (3.10.0.2)\n",
            "Requirement already satisfied: keras-preprocessing>=1.1.1 in /usr/local/lib/python3.7/dist-packages (from tensorflow-gpu) (1.1.2)\n",
            "Requirement already satisfied: tensorflow-io-gcs-filesystem>=0.23.1 in /usr/local/lib/python3.7/dist-packages (from tensorflow-gpu) (0.24.0)\n",
            "Requirement already satisfied: setuptools in /usr/local/lib/python3.7/dist-packages (from tensorflow-gpu) (57.4.0)\n",
            "Requirement already satisfied: google-pasta>=0.1.1 in /usr/local/lib/python3.7/dist-packages (from tensorflow-gpu) (0.2.0)\n",
            "Requirement already satisfied: libclang>=9.0.1 in /usr/local/lib/python3.7/dist-packages (from tensorflow-gpu) (13.0.0)\n",
            "Requirement already satisfied: absl-py>=0.4.0 in /usr/local/lib/python3.7/dist-packages (from tensorflow-gpu) (1.0.0)\n",
            "Requirement already satisfied: six>=1.12.0 in /usr/local/lib/python3.7/dist-packages (from tensorflow-gpu) (1.15.0)\n",
            "Requirement already satisfied: protobuf>=3.9.2 in /usr/local/lib/python3.7/dist-packages (from tensorflow-gpu) (3.17.3)\n",
            "Requirement already satisfied: wrapt>=1.11.0 in /usr/local/lib/python3.7/dist-packages (from tensorflow-gpu) (1.13.3)\n",
            "Collecting tensorboard<2.9,>=2.8\n",
            "  Downloading tensorboard-2.8.0-py3-none-any.whl (5.8 MB)\n",
            "\u001b[K     |████████████████████████████████| 5.8 MB 27.5 MB/s \n",
            "\u001b[?25hCollecting tf-estimator-nightly==2.8.0.dev2021122109\n",
            "  Downloading tf_estimator_nightly-2.8.0.dev2021122109-py2.py3-none-any.whl (462 kB)\n",
            "\u001b[K     |████████████████████████████████| 462 kB 48.5 MB/s \n",
            "\u001b[?25hRequirement already satisfied: astunparse>=1.6.0 in /usr/local/lib/python3.7/dist-packages (from tensorflow-gpu) (1.6.3)\n",
            "Collecting numpy>=1.20\n",
            "  Downloading numpy-1.21.5-cp37-cp37m-manylinux_2_12_x86_64.manylinux2010_x86_64.whl (15.7 MB)\n",
            "\u001b[K     |████████████████████████████████| 15.7 MB 39.1 MB/s \n",
            "\u001b[?25hRequirement already satisfied: wheel<1.0,>=0.23.0 in /usr/local/lib/python3.7/dist-packages (from astunparse>=1.6.0->tensorflow-gpu) (0.37.1)\n",
            "Requirement already satisfied: cached-property in /usr/local/lib/python3.7/dist-packages (from h5py>=2.9.0->tensorflow-gpu) (1.5.2)\n",
            "Requirement already satisfied: google-auth-oauthlib<0.5,>=0.4.1 in /usr/local/lib/python3.7/dist-packages (from tensorboard<2.9,>=2.8->tensorflow-gpu) (0.4.6)\n",
            "Requirement already satisfied: markdown>=2.6.8 in /usr/local/lib/python3.7/dist-packages (from tensorboard<2.9,>=2.8->tensorflow-gpu) (3.3.6)\n",
            "Requirement already satisfied: requests<3,>=2.21.0 in /usr/local/lib/python3.7/dist-packages (from tensorboard<2.9,>=2.8->tensorflow-gpu) (2.23.0)\n",
            "Requirement already satisfied: google-auth<3,>=1.6.3 in /usr/local/lib/python3.7/dist-packages (from tensorboard<2.9,>=2.8->tensorflow-gpu) (1.35.0)\n",
            "Requirement already satisfied: werkzeug>=0.11.15 in /usr/local/lib/python3.7/dist-packages (from tensorboard<2.9,>=2.8->tensorflow-gpu) (1.0.1)\n",
            "Requirement already satisfied: tensorboard-plugin-wit>=1.6.0 in /usr/local/lib/python3.7/dist-packages (from tensorboard<2.9,>=2.8->tensorflow-gpu) (1.8.1)\n",
            "Requirement already satisfied: tensorboard-data-server<0.7.0,>=0.6.0 in /usr/local/lib/python3.7/dist-packages (from tensorboard<2.9,>=2.8->tensorflow-gpu) (0.6.1)\n",
            "Requirement already satisfied: pyasn1-modules>=0.2.1 in /usr/local/lib/python3.7/dist-packages (from google-auth<3,>=1.6.3->tensorboard<2.9,>=2.8->tensorflow-gpu) (0.2.8)\n",
            "Requirement already satisfied: cachetools<5.0,>=2.0.0 in /usr/local/lib/python3.7/dist-packages (from google-auth<3,>=1.6.3->tensorboard<2.9,>=2.8->tensorflow-gpu) (4.2.4)\n",
            "Requirement already satisfied: rsa<5,>=3.1.4 in /usr/local/lib/python3.7/dist-packages (from google-auth<3,>=1.6.3->tensorboard<2.9,>=2.8->tensorflow-gpu) (4.8)\n",
            "Requirement already satisfied: requests-oauthlib>=0.7.0 in /usr/local/lib/python3.7/dist-packages (from google-auth-oauthlib<0.5,>=0.4.1->tensorboard<2.9,>=2.8->tensorflow-gpu) (1.3.1)\n",
            "Requirement already satisfied: importlib-metadata>=4.4 in /usr/local/lib/python3.7/dist-packages (from markdown>=2.6.8->tensorboard<2.9,>=2.8->tensorflow-gpu) (4.10.1)\n",
            "Requirement already satisfied: zipp>=0.5 in /usr/local/lib/python3.7/dist-packages (from importlib-metadata>=4.4->markdown>=2.6.8->tensorboard<2.9,>=2.8->tensorflow-gpu) (3.7.0)\n",
            "Requirement already satisfied: pyasn1<0.5.0,>=0.4.6 in /usr/local/lib/python3.7/dist-packages (from pyasn1-modules>=0.2.1->google-auth<3,>=1.6.3->tensorboard<2.9,>=2.8->tensorflow-gpu) (0.4.8)\n",
            "Requirement already satisfied: chardet<4,>=3.0.2 in /usr/local/lib/python3.7/dist-packages (from requests<3,>=2.21.0->tensorboard<2.9,>=2.8->tensorflow-gpu) (3.0.4)\n",
            "Requirement already satisfied: urllib3!=1.25.0,!=1.25.1,<1.26,>=1.21.1 in /usr/local/lib/python3.7/dist-packages (from requests<3,>=2.21.0->tensorboard<2.9,>=2.8->tensorflow-gpu) (1.24.3)\n",
            "Requirement already satisfied: certifi>=2017.4.17 in /usr/local/lib/python3.7/dist-packages (from requests<3,>=2.21.0->tensorboard<2.9,>=2.8->tensorflow-gpu) (2021.10.8)\n",
            "Requirement already satisfied: idna<3,>=2.5 in /usr/local/lib/python3.7/dist-packages (from requests<3,>=2.21.0->tensorboard<2.9,>=2.8->tensorflow-gpu) (2.10)\n",
            "Requirement already satisfied: oauthlib>=3.0.0 in /usr/local/lib/python3.7/dist-packages (from requests-oauthlib>=0.7.0->google-auth-oauthlib<0.5,>=0.4.1->tensorboard<2.9,>=2.8->tensorflow-gpu) (3.2.0)\n",
            "Installing collected packages: numpy, tf-estimator-nightly, tensorboard, keras, tensorflow-gpu\n",
            "  Attempting uninstall: numpy\n",
            "    Found existing installation: numpy 1.19.5\n",
            "    Uninstalling numpy-1.19.5:\n",
            "      Successfully uninstalled numpy-1.19.5\n",
            "  Attempting uninstall: tensorboard\n",
            "    Found existing installation: tensorboard 2.7.0\n",
            "    Uninstalling tensorboard-2.7.0:\n",
            "      Successfully uninstalled tensorboard-2.7.0\n",
            "  Attempting uninstall: keras\n",
            "    Found existing installation: keras 2.7.0\n",
            "    Uninstalling keras-2.7.0:\n",
            "      Successfully uninstalled keras-2.7.0\n",
            "\u001b[31mERROR: pip's dependency resolver does not currently take into account all the packages that are installed. This behaviour is the source of the following dependency conflicts.\n",
            "yellowbrick 1.3.post1 requires numpy<1.20,>=1.16.0, but you have numpy 1.21.5 which is incompatible.\n",
            "tensorflow 2.7.0 requires keras<2.8,>=2.7.0rc0, but you have keras 2.8.0 which is incompatible.\n",
            "datascience 0.10.6 requires folium==0.2.1, but you have folium 0.8.3 which is incompatible.\n",
            "albumentations 0.1.12 requires imgaug<0.2.7,>=0.2.5, but you have imgaug 0.2.9 which is incompatible.\u001b[0m\n",
            "Successfully installed keras-2.8.0 numpy-1.21.5 tensorboard-2.8.0 tensorflow-gpu-2.8.0 tf-estimator-nightly-2.8.0.dev2021122109\n"
          ]
        },
        {
          "output_type": "display_data",
          "data": {
            "application/vnd.colab-display-data+json": {
              "pip_warning": {
                "packages": [
                  "numpy"
                ]
              }
            }
          },
          "metadata": {}
        }
      ]
    },
    {
      "cell_type": "code",
      "source": [
        "import tensorflow as tf\n",
        "tf.__version__"
      ],
      "metadata": {
        "colab": {
          "base_uri": "https://localhost:8080/",
          "height": 35
        },
        "id": "8ESqyhlKlVfW",
        "outputId": "2d40620e-bb6a-42bf-968e-b7739c705200"
      },
      "execution_count": null,
      "outputs": [
        {
          "output_type": "execute_result",
          "data": {
            "application/vnd.google.colaboratory.intrinsic+json": {
              "type": "string"
            },
            "text/plain": [
              "'2.7.0'"
            ]
          },
          "metadata": {},
          "execution_count": 2
        }
      ]
    },
    {
      "cell_type": "code",
      "source": [
        "dataset= '/content/drive/MyDrive/Untitled folder/Eye_diseases'"
      ],
      "metadata": {
        "id": "oUvqDE2hl6n-"
      },
      "execution_count": null,
      "outputs": []
    },
    {
      "cell_type": "code",
      "source": [
        "dataset"
      ],
      "metadata": {
        "colab": {
          "base_uri": "https://localhost:8080/",
          "height": 35
        },
        "id": "k-ZB52bChew1",
        "outputId": "99e25e84-fd7e-477a-dd71-020b719b06a9"
      },
      "execution_count": null,
      "outputs": [
        {
          "output_type": "execute_result",
          "data": {
            "application/vnd.google.colaboratory.intrinsic+json": {
              "type": "string"
            },
            "text/plain": [
              "'/content/drive/MyDrive/Untitled folder/Eye_diseases'"
            ]
          },
          "metadata": {},
          "execution_count": 5
        }
      ]
    },
    {
      "cell_type": "code",
      "source": [
        "# filtering each classes_names from folders,because  here we get the data with class \n",
        "# name as the folder name\n",
        "\n",
        "from glob import glob\n"
      ],
      "metadata": {
        "id": "VAwWfpcVkMPQ"
      },
      "execution_count": null,
      "outputs": []
    },
    {
      "cell_type": "code",
      "source": [
        "folders = glob('/content/drive/MyDrive/Untitled folder/Eye_diseases/*')"
      ],
      "metadata": {
        "id": "KczPX_lBkhO3"
      },
      "execution_count": null,
      "outputs": []
    },
    {
      "cell_type": "code",
      "source": [
        "folders"
      ],
      "metadata": {
        "colab": {
          "base_uri": "https://localhost:8080/"
        },
        "id": "Ns0peR_4ksNb",
        "outputId": "60684d9a-55a2-4f76-93f4-e380ece67671"
      },
      "execution_count": null,
      "outputs": [
        {
          "output_type": "execute_result",
          "data": {
            "text/plain": [
              "['/content/drive/MyDrive/Untitled folder/Eye_diseases/Cataracts',\n",
              " '/content/drive/MyDrive/Untitled folder/Eye_diseases/Eye_diseases',\n",
              " '/content/drive/MyDrive/Untitled folder/Eye_diseases/Uveitis',\n",
              " '/content/drive/MyDrive/Untitled folder/Eye_diseases/Glaucoma',\n",
              " '/content/drive/MyDrive/Untitled folder/Eye_diseases/Crossed_Eyes',\n",
              " '/content/drive/MyDrive/Untitled folder/Eye_diseases/Bulging_Eyes']"
            ]
          },
          "metadata": {},
          "execution_count": 8
        }
      ]
    },
    {
      "cell_type": "code",
      "source": [
        "len(folders)"
      ],
      "metadata": {
        "colab": {
          "base_uri": "https://localhost:8080/"
        },
        "id": "18Gq9vwwkvxI",
        "outputId": "e1ae062b-d24f-4b66-f6c0-474fd9e0f0b6"
      },
      "execution_count": null,
      "outputs": [
        {
          "output_type": "execute_result",
          "data": {
            "text/plain": [
              "6"
            ]
          },
          "metadata": {},
          "execution_count": 7
        }
      ]
    },
    {
      "cell_type": "code",
      "source": [
        "# finally we get the class_names\n",
        "a=[]\n",
        "\n",
        "for i in folders:\n",
        "\n",
        "  a.append(i.split('/')[-1])\n",
        "  #print(i)\n",
        "a"
      ],
      "metadata": {
        "colab": {
          "base_uri": "https://localhost:8080/"
        },
        "id": "pgA6ILNflLQC",
        "outputId": "0227ba88-9548-4c79-9719-4b4fa1542724"
      },
      "execution_count": null,
      "outputs": [
        {
          "output_type": "execute_result",
          "data": {
            "text/plain": [
              "['Cataracts',\n",
              " 'Eye_diseases',\n",
              " 'Uveitis',\n",
              " 'Glaucoma',\n",
              " 'Crossed_Eyes',\n",
              " 'Bulging_Eyes']"
            ]
          },
          "metadata": {},
          "execution_count": 9
        }
      ]
    },
    {
      "cell_type": "code",
      "source": [
        "i"
      ],
      "metadata": {
        "colab": {
          "base_uri": "https://localhost:8080/",
          "height": 35
        },
        "id": "_uMaWAuM467o",
        "outputId": "7a8b8bc8-1713-42a9-9939-bdefc9c02f21"
      },
      "execution_count": null,
      "outputs": [
        {
          "output_type": "execute_result",
          "data": {
            "application/vnd.google.colaboratory.intrinsic+json": {
              "type": "string"
            },
            "text/plain": [
              "'/content/drive/MyDrive/Untitled folder/Eye_diseases/Bulging_Eyes'"
            ]
          },
          "metadata": {},
          "execution_count": 9
        }
      ]
    },
    {
      "cell_type": "code",
      "source": [
        "#just for a fun\n",
        "s='/content/drive/MyDrive/Untitled folder/Eye_diseases/Cataracts'\n",
        "s.split('/')[-1]"
      ],
      "metadata": {
        "colab": {
          "base_uri": "https://localhost:8080/",
          "height": 35
        },
        "id": "rS2I5_zZlhnt",
        "outputId": "96f0dd4f-8594-4731-c198-a5db30a8b173"
      },
      "execution_count": null,
      "outputs": [
        {
          "output_type": "execute_result",
          "data": {
            "application/vnd.google.colaboratory.intrinsic+json": {
              "type": "string"
            },
            "text/plain": [
              "'Cataracts'"
            ]
          },
          "metadata": {},
          "execution_count": 10
        }
      ]
    },
    {
      "cell_type": "code",
      "source": [
        "#making data for test and train ,then do some preprocessing \n",
        "from tensorflow.keras.preprocessing.image import ImageDataGenerator\n",
        "train_datagen = ImageDataGenerator(rescale=1./255,\n",
        "    shear_range=0.2,\n",
        "    zoom_range=0.2,\n",
        "    horizontal_flip=True,\n",
        "    validation_split=0.2)"
      ],
      "metadata": {
        "id": "IXgsexQXmeji"
      },
      "execution_count": null,
      "outputs": []
    },
    {
      "cell_type": "code",
      "source": [
        "train_set = train_datagen.flow_from_directory(\n",
        "    '/content/drive/MyDrive/Untitled folder/Eye_diseases',\n",
        "    target_size=(224, 224),\n",
        "    batch_size=32,\n",
        "    class_mode='categorical',\n",
        "    subset='training')"
      ],
      "metadata": {
        "colab": {
          "base_uri": "https://localhost:8080/"
        },
        "id": "eiHEnLJCpexe",
        "outputId": "1da32ccb-8f08-4b6b-b2bd-208cd39ad7fa"
      },
      "execution_count": null,
      "outputs": [
        {
          "output_type": "stream",
          "name": "stdout",
          "text": [
            "Found 615 images belonging to 6 classes.\n"
          ]
        }
      ]
    },
    {
      "cell_type": "code",
      "source": [
        "len(train_set)"
      ],
      "metadata": {
        "colab": {
          "base_uri": "https://localhost:8080/"
        },
        "id": "sAuP6O0lqAZT",
        "outputId": "483a66da-9afd-4a56-f9fb-58e950bb02ff"
      },
      "execution_count": null,
      "outputs": [
        {
          "output_type": "execute_result",
          "data": {
            "text/plain": [
              "20"
            ]
          },
          "metadata": {},
          "execution_count": 13
        }
      ]
    },
    {
      "cell_type": "code",
      "source": [
        "#The number of images in each batch\n",
        "print(32*20)"
      ],
      "metadata": {
        "colab": {
          "base_uri": "https://localhost:8080/"
        },
        "id": "ULUzDOLhqGbm",
        "outputId": "fbbb4672-27a7-4ad7-ad71-a4fbf4112fbc"
      },
      "execution_count": null,
      "outputs": [
        {
          "output_type": "stream",
          "name": "stdout",
          "text": [
            "640\n"
          ]
        }
      ]
    },
    {
      "cell_type": "code",
      "source": [
        "#for testing data\n",
        "\n",
        "test_set= train_datagen.flow_from_directory(\n",
        "    '/content/drive/MyDrive/Untitled folder/Eye_diseases', # same directory as training data\n",
        "    target_size=(224,224),\n",
        "    batch_size=32,\n",
        "    class_mode='categorical',\n",
        "    subset='validation') # set as validation data"
      ],
      "metadata": {
        "colab": {
          "base_uri": "https://localhost:8080/"
        },
        "id": "zLG2EOXxqKmF",
        "outputId": "66df7258-b57a-4568-af81-e88d349ced77"
      },
      "execution_count": null,
      "outputs": [
        {
          "output_type": "stream",
          "name": "stdout",
          "text": [
            "Found 151 images belonging to 6 classes.\n"
          ]
        }
      ]
    },
    {
      "cell_type": "code",
      "source": [
        "#the number of images getting on each batch from test_set\n",
        "print(32*len(test_set))"
      ],
      "metadata": {
        "colab": {
          "base_uri": "https://localhost:8080/"
        },
        "id": "FEX02wVAsOy7",
        "outputId": "a1e48e4b-3e47-4a4b-c0c6-102f807c5878"
      },
      "execution_count": null,
      "outputs": [
        {
          "output_type": "stream",
          "name": "stdout",
          "text": [
            "160\n"
          ]
        }
      ]
    },
    {
      "cell_type": "code",
      "source": [
        "#creating CNN model\n",
        "\n",
        "from keras.models import Model\n",
        "from keras.models import Sequential\n",
        "from keras.layers import Input, Dense, Flatten,Conv2D,MaxPooling2D"
      ],
      "metadata": {
        "id": "K5r2-4OczKcj"
      },
      "execution_count": null,
      "outputs": []
    },
    {
      "cell_type": "code",
      "source": [
        "model=Sequential()\n",
        "model.add(Conv2D(filters=16,kernel_size=2,padding=\"same\",activation=\"relu\",input_shape=(224,224,3)))\n",
        "model.add(MaxPooling2D(pool_size=2))\n",
        "model.add(Conv2D(filters=32,kernel_size=2,padding=\"same\",activation =\"relu\"))\n",
        "model.add(MaxPooling2D(pool_size=2))\n",
        "model.add(Conv2D(filters=64,kernel_size=2,padding=\"same\",activation=\"relu\"))\n",
        "model.add(MaxPooling2D(pool_size=2))\n",
        "model.summary()"
      ],
      "metadata": {
        "colab": {
          "base_uri": "https://localhost:8080/"
        },
        "id": "8dVSiVobtDdK",
        "outputId": "a59db559-fba0-4849-9ff4-cce8fc71a127"
      },
      "execution_count": null,
      "outputs": [
        {
          "output_type": "stream",
          "name": "stdout",
          "text": [
            "Model: \"sequential\"\n",
            "_________________________________________________________________\n",
            " Layer (type)                Output Shape              Param #   \n",
            "=================================================================\n",
            " conv2d (Conv2D)             (None, 224, 224, 16)      208       \n",
            "                                                                 \n",
            " max_pooling2d (MaxPooling2D  (None, 112, 112, 16)     0         \n",
            " )                                                               \n",
            "                                                                 \n",
            " conv2d_1 (Conv2D)           (None, 112, 112, 32)      2080      \n",
            "                                                                 \n",
            " max_pooling2d_1 (MaxPooling  (None, 56, 56, 32)       0         \n",
            " 2D)                                                             \n",
            "                                                                 \n",
            " conv2d_2 (Conv2D)           (None, 56, 56, 64)        8256      \n",
            "                                                                 \n",
            " max_pooling2d_2 (MaxPooling  (None, 28, 28, 64)       0         \n",
            " 2D)                                                             \n",
            "                                                                 \n",
            "=================================================================\n",
            "Total params: 10,544\n",
            "Trainable params: 10,544\n",
            "Non-trainable params: 0\n",
            "_________________________________________________________________\n"
          ]
        }
      ]
    },
    {
      "cell_type": "code",
      "source": [
        "#creating dense layer\n",
        "\n",
        "model.add(Flatten())\n",
        "model.add(Dense(500,activation=\"relu\"))\n",
        "model.add(Dense(6,activation=\"softmax\"))\n",
        "model.summary()"
      ],
      "metadata": {
        "colab": {
          "base_uri": "https://localhost:8080/"
        },
        "id": "-5WTeqrpzPIA",
        "outputId": "db6884a8-fc57-4a28-be6a-f76e00c6e33b"
      },
      "execution_count": null,
      "outputs": [
        {
          "output_type": "stream",
          "name": "stdout",
          "text": [
            "Model: \"sequential\"\n",
            "_________________________________________________________________\n",
            " Layer (type)                Output Shape              Param #   \n",
            "=================================================================\n",
            " conv2d (Conv2D)             (None, 224, 224, 16)      208       \n",
            "                                                                 \n",
            " max_pooling2d (MaxPooling2D  (None, 112, 112, 16)     0         \n",
            " )                                                               \n",
            "                                                                 \n",
            " conv2d_1 (Conv2D)           (None, 112, 112, 32)      2080      \n",
            "                                                                 \n",
            " max_pooling2d_1 (MaxPooling  (None, 56, 56, 32)       0         \n",
            " 2D)                                                             \n",
            "                                                                 \n",
            " conv2d_2 (Conv2D)           (None, 56, 56, 64)        8256      \n",
            "                                                                 \n",
            " max_pooling2d_2 (MaxPooling  (None, 28, 28, 64)       0         \n",
            " 2D)                                                             \n",
            "                                                                 \n",
            " flatten (Flatten)           (None, 50176)             0         \n",
            "                                                                 \n",
            " dense (Dense)               (None, 500)               25088500  \n",
            "                                                                 \n",
            " dense_1 (Dense)             (None, 6)                 3006      \n",
            "                                                                 \n",
            "=================================================================\n",
            "Total params: 25,102,050\n",
            "Trainable params: 25,102,050\n",
            "Non-trainable params: 0\n",
            "_________________________________________________________________\n"
          ]
        }
      ]
    },
    {
      "cell_type": "code",
      "source": [
        "model.compile(\n",
        "  loss='categorical_crossentropy',\n",
        "  optimizer='adam',\n",
        "  metrics=['accuracy']\n",
        ")"
      ],
      "metadata": {
        "id": "KH5cYix3zW6G"
      },
      "execution_count": null,
      "outputs": []
    },
    {
      "cell_type": "code",
      "source": [
        "#save the model histoy to hist\n",
        "model.fit(train_set,validation_data=test_set,epochs=20,batch_size=32)"
      ],
      "metadata": {
        "colab": {
          "base_uri": "https://localhost:8080/"
        },
        "id": "azNarkiSz1UL",
        "outputId": "1df92335-9523-44c3-c63f-918e865a2e61"
      },
      "execution_count": null,
      "outputs": [
        {
          "output_type": "stream",
          "name": "stdout",
          "text": [
            "Epoch 1/20\n",
            "20/20 [==============================] - 291s 14s/step - loss: 2.2649 - accuracy: 0.4423 - val_loss: 1.4587 - val_accuracy: 0.5033\n",
            "Epoch 2/20\n",
            "20/20 [==============================] - 12s 586ms/step - loss: 1.4124 - accuracy: 0.4992 - val_loss: 1.4462 - val_accuracy: 0.5033\n",
            "Epoch 3/20\n",
            "20/20 [==============================] - 11s 574ms/step - loss: 1.3803 - accuracy: 0.4927 - val_loss: 1.4158 - val_accuracy: 0.5033\n",
            "Epoch 4/20\n",
            "20/20 [==============================] - 11s 574ms/step - loss: 1.3706 - accuracy: 0.4992 - val_loss: 1.4078 - val_accuracy: 0.5033\n",
            "Epoch 5/20\n",
            "20/20 [==============================] - 11s 574ms/step - loss: 1.3450 - accuracy: 0.4959 - val_loss: 1.3291 - val_accuracy: 0.5033\n",
            "Epoch 6/20\n",
            "20/20 [==============================] - 11s 569ms/step - loss: 1.3273 - accuracy: 0.4959 - val_loss: 1.3800 - val_accuracy: 0.4834\n",
            "Epoch 7/20\n",
            "20/20 [==============================] - 11s 572ms/step - loss: 1.2983 - accuracy: 0.4911 - val_loss: 1.4302 - val_accuracy: 0.3245\n",
            "Epoch 8/20\n",
            "20/20 [==============================] - 11s 573ms/step - loss: 1.2714 - accuracy: 0.4894 - val_loss: 1.3576 - val_accuracy: 0.5364\n",
            "Epoch 9/20\n",
            "20/20 [==============================] - 12s 578ms/step - loss: 1.2661 - accuracy: 0.4943 - val_loss: 1.4462 - val_accuracy: 0.4371\n",
            "Epoch 10/20\n",
            "20/20 [==============================] - 12s 580ms/step - loss: 1.2386 - accuracy: 0.4829 - val_loss: 1.3618 - val_accuracy: 0.4636\n",
            "Epoch 11/20\n",
            "20/20 [==============================] - 12s 596ms/step - loss: 1.2065 - accuracy: 0.4862 - val_loss: 1.3902 - val_accuracy: 0.4238\n",
            "Epoch 12/20\n",
            "20/20 [==============================] - 12s 612ms/step - loss: 1.1710 - accuracy: 0.4780 - val_loss: 1.3672 - val_accuracy: 0.4570\n",
            "Epoch 13/20\n",
            "20/20 [==============================] - 12s 592ms/step - loss: 1.1534 - accuracy: 0.4732 - val_loss: 1.3833 - val_accuracy: 0.4172\n",
            "Epoch 14/20\n",
            "20/20 [==============================] - 12s 591ms/step - loss: 1.1375 - accuracy: 0.5089 - val_loss: 1.4770 - val_accuracy: 0.3377\n",
            "Epoch 15/20\n",
            "20/20 [==============================] - 12s 590ms/step - loss: 1.1247 - accuracy: 0.4894 - val_loss: 1.4978 - val_accuracy: 0.3179\n",
            "Epoch 16/20\n",
            "20/20 [==============================] - 12s 584ms/step - loss: 1.1298 - accuracy: 0.4764 - val_loss: 1.5937 - val_accuracy: 0.2914\n",
            "Epoch 17/20\n",
            "20/20 [==============================] - 12s 578ms/step - loss: 1.0816 - accuracy: 0.5057 - val_loss: 1.5985 - val_accuracy: 0.3046\n",
            "Epoch 18/20\n",
            "20/20 [==============================] - 12s 579ms/step - loss: 1.0415 - accuracy: 0.5171 - val_loss: 1.6192 - val_accuracy: 0.2781\n",
            "Epoch 19/20\n",
            "20/20 [==============================] - 12s 591ms/step - loss: 1.0244 - accuracy: 0.5138 - val_loss: 1.7464 - val_accuracy: 0.2914\n",
            "Epoch 20/20\n",
            "20/20 [==============================] - 12s 591ms/step - loss: 0.9878 - accuracy: 0.5203 - val_loss: 1.6245 - val_accuracy: 0.2715\n"
          ]
        },
        {
          "output_type": "execute_result",
          "data": {
            "text/plain": [
              "<keras.callbacks.History at 0x7f93d0334f10>"
            ]
          },
          "metadata": {},
          "execution_count": 18
        }
      ]
    },
    {
      "cell_type": "code",
      "source": [
        "model.predict(test_set)"
      ],
      "metadata": {
        "id": "7fZlLjQq1x65",
        "colab": {
          "base_uri": "https://localhost:8080/"
        },
        "outputId": "17004259-c837-4ba1-af05-11846c6d4db0"
      },
      "execution_count": null,
      "outputs": [
        {
          "output_type": "execute_result",
          "data": {
            "text/plain": [
              "array([[7.36191928e-01, 2.36844132e-03, 9.71710682e-02, 1.16636924e-01,\n",
              "        4.58655581e-02, 1.76616455e-03],\n",
              "       [2.54377956e-03, 4.45109941e-02, 3.85963079e-03, 6.29240334e-01,\n",
              "        1.03934772e-01, 2.15910539e-01],\n",
              "       [9.19996295e-03, 2.07183063e-01, 2.38027737e-01, 3.92966658e-01,\n",
              "        7.89810121e-02, 7.36415237e-02],\n",
              "       [3.04130077e-01, 2.16276050e-02, 8.80907625e-02, 4.05096322e-01,\n",
              "        1.52068034e-01, 2.89872419e-02],\n",
              "       [3.82823087e-02, 1.96166639e-03, 4.43649083e-01, 4.97324795e-01,\n",
              "        4.96180914e-03, 1.38203483e-02],\n",
              "       [1.21952193e-02, 2.82695264e-01, 6.75551146e-02, 3.90202910e-01,\n",
              "        1.38710529e-01, 1.08641006e-01],\n",
              "       [1.43634519e-02, 5.37825301e-02, 3.82168204e-01, 4.51537043e-01,\n",
              "        8.68287385e-02, 1.13200238e-02],\n",
              "       [7.00026145e-03, 1.30138099e-02, 4.75252308e-02, 6.59776568e-01,\n",
              "        2.19001517e-01, 5.36826327e-02],\n",
              "       [8.50126371e-02, 2.28760182e-03, 3.37247849e-01, 5.29190242e-01,\n",
              "        4.14162241e-02, 4.84544924e-03],\n",
              "       [1.48578867e-01, 9.34745744e-02, 1.06209315e-01, 4.24770862e-01,\n",
              "        1.45979851e-01, 8.09864774e-02],\n",
              "       [4.01069969e-02, 4.57704872e-01, 1.01318724e-01, 2.47553006e-01,\n",
              "        3.61733660e-02, 1.17143042e-01],\n",
              "       [3.60898877e-04, 9.83428061e-01, 4.99311136e-03, 1.10413143e-02,\n",
              "        9.49225941e-05, 8.17730834e-05],\n",
              "       [5.72886057e-02, 2.09641401e-02, 1.09725900e-01, 5.40634036e-01,\n",
              "        1.89801022e-01, 8.15862715e-02],\n",
              "       [4.77823056e-03, 6.78687997e-04, 3.73747855e-01, 5.94054997e-01,\n",
              "        4.61741583e-03, 2.21228600e-02],\n",
              "       [1.32642919e-02, 5.31464932e-04, 6.79417998e-02, 8.29380512e-01,\n",
              "        8.46770927e-02, 4.20486741e-03],\n",
              "       [5.42766741e-03, 4.28596348e-01, 3.87951732e-02, 2.06668049e-01,\n",
              "        2.44194061e-01, 7.63187036e-02],\n",
              "       [3.17650400e-02, 6.64029121e-02, 4.38174486e-01, 4.25451756e-01,\n",
              "        3.38412262e-02, 4.36454965e-03],\n",
              "       [4.41663293e-03, 3.58728468e-02, 1.23597175e-01, 6.77182496e-01,\n",
              "        9.63677615e-02, 6.25630468e-02],\n",
              "       [3.55183729e-03, 2.93978602e-01, 1.12971961e-01, 4.40637857e-01,\n",
              "        6.88427240e-02, 8.00170079e-02],\n",
              "       [6.21766388e-01, 1.08865760e-02, 1.23058893e-01, 2.24893302e-01,\n",
              "        1.91603713e-02, 2.34493884e-04],\n",
              "       [2.43428852e-02, 7.26571456e-02, 2.93634623e-01, 4.20406252e-01,\n",
              "        1.67633489e-01, 2.13256534e-02],\n",
              "       [1.51000349e-02, 1.43261626e-01, 1.73543945e-01, 4.17215914e-01,\n",
              "        2.00114980e-01, 5.07635213e-02],\n",
              "       [4.18882538e-03, 5.78003109e-01, 6.23963736e-02, 2.62643725e-01,\n",
              "        2.51957830e-02, 6.75721839e-02],\n",
              "       [4.45010453e-01, 5.33022918e-02, 1.04775250e-01, 2.87768513e-01,\n",
              "        7.41291046e-02, 3.50143984e-02],\n",
              "       [1.41890050e-04, 6.17220812e-03, 1.65415078e-01, 7.92364001e-01,\n",
              "        1.35795763e-02, 2.23272294e-02],\n",
              "       [1.96928158e-02, 1.48703549e-02, 3.34709436e-01, 5.61439276e-01,\n",
              "        3.99227180e-02, 2.93653738e-02],\n",
              "       [4.93098283e-04, 9.99424839e-04, 3.27747881e-01, 6.13506019e-01,\n",
              "        5.67567013e-02, 4.96825436e-04],\n",
              "       [2.17646826e-02, 9.57334340e-02, 1.98639855e-02, 3.63214344e-01,\n",
              "        4.37046349e-01, 6.23772331e-02],\n",
              "       [3.07047069e-02, 9.19884294e-02, 2.27919057e-01, 4.29671347e-01,\n",
              "        1.58426255e-01, 6.12902157e-02],\n",
              "       [1.05503639e-02, 5.31837940e-01, 8.19020942e-02, 2.94618756e-01,\n",
              "        6.27138093e-02, 1.83770284e-02],\n",
              "       [1.06908083e-02, 5.78027546e-01, 1.71827171e-02, 2.56314456e-01,\n",
              "        6.17309175e-02, 7.60535374e-02],\n",
              "       [6.04073238e-03, 1.38791531e-01, 5.18813692e-02, 5.08441567e-01,\n",
              "        8.91831443e-02, 2.05661684e-01],\n",
              "       [3.86745818e-02, 1.93970978e-01, 1.22028835e-01, 4.86869872e-01,\n",
              "        8.11711028e-02, 7.72845820e-02],\n",
              "       [7.44457403e-03, 3.10584038e-01, 9.61481258e-02, 3.98065418e-01,\n",
              "        9.63497832e-02, 9.14081037e-02],\n",
              "       [2.66062587e-01, 5.61180059e-04, 3.12436551e-01, 4.08523679e-01,\n",
              "        1.23993754e-02, 1.66180525e-05],\n",
              "       [9.01108682e-01, 5.44091919e-04, 1.50530413e-02, 6.63414747e-02,\n",
              "        1.64728221e-02, 4.79944720e-04],\n",
              "       [2.42089834e-02, 1.97638571e-03, 1.87618032e-01, 4.47597474e-01,\n",
              "        3.30528587e-01, 8.07054248e-03],\n",
              "       [7.37441331e-03, 2.69088224e-02, 2.44897753e-01, 6.87788308e-01,\n",
              "        2.41126288e-02, 8.91808514e-03],\n",
              "       [4.79602478e-02, 7.18909085e-01, 5.54609820e-02, 1.46879882e-01,\n",
              "        2.38372125e-02, 6.95261871e-03],\n",
              "       [4.55979462e-04, 1.21180201e-03, 3.08647126e-01, 6.78250611e-01,\n",
              "        8.29900708e-03, 3.13550187e-03],\n",
              "       [6.59437358e-01, 3.42330560e-02, 1.27608851e-01, 1.45871326e-01,\n",
              "        2.86733061e-02, 4.17609513e-03],\n",
              "       [1.26888393e-03, 1.40457798e-03, 3.34591232e-02, 6.66151941e-01,\n",
              "        2.73409307e-01, 2.43061427e-02],\n",
              "       [2.68858089e-03, 3.24486842e-04, 4.79982823e-01, 5.10542274e-01,\n",
              "        6.36175321e-03, 1.00102036e-04],\n",
              "       [9.79164056e-03, 8.64942074e-02, 1.38456775e-02, 5.31990528e-01,\n",
              "        2.12580457e-01, 1.45297527e-01],\n",
              "       [6.66106993e-04, 7.78561234e-01, 1.11353695e-01, 1.04341350e-01,\n",
              "        4.47071297e-03, 6.06948335e-04],\n",
              "       [5.22008748e-04, 7.80545413e-01, 2.73244940e-02, 1.39306799e-01,\n",
              "        2.57018488e-02, 2.65994444e-02],\n",
              "       [8.08993168e-03, 6.55100215e-04, 3.55724752e-01, 6.24237180e-01,\n",
              "        3.46043194e-03, 7.83265289e-03],\n",
              "       [1.19935973e-02, 1.50759974e-02, 2.42413834e-01, 5.72276831e-01,\n",
              "        1.46103576e-01, 1.21362032e-02],\n",
              "       [1.67956978e-01, 6.25423295e-03, 3.98641050e-01, 3.99619848e-01,\n",
              "        2.37576757e-02, 3.77016841e-03],\n",
              "       [1.15859241e-03, 7.57844560e-03, 8.17133412e-02, 8.59739482e-01,\n",
              "        4.83871624e-02, 1.42293703e-03],\n",
              "       [2.94110309e-02, 3.22233856e-01, 1.20160662e-01, 3.37198496e-01,\n",
              "        1.44566521e-01, 4.64294069e-02],\n",
              "       [2.56168598e-04, 1.21704742e-01, 2.10967101e-02, 5.50318241e-01,\n",
              "        1.23760868e-02, 2.94248015e-01],\n",
              "       [9.12415702e-03, 7.28913128e-01, 4.50065248e-02, 1.62680268e-01,\n",
              "        2.31132563e-02, 3.11626829e-02],\n",
              "       [1.65520012e-01, 2.56778989e-02, 1.38697609e-01, 5.84734917e-01,\n",
              "        2.66374368e-02, 5.87321073e-02],\n",
              "       [6.69548335e-03, 3.16686392e-01, 4.65265810e-02, 4.26116765e-01,\n",
              "        1.46781519e-01, 5.71933128e-02],\n",
              "       [3.59961507e-03, 3.12707922e-03, 1.86518356e-01, 7.56630898e-01,\n",
              "        4.25790697e-02, 7.54500879e-03],\n",
              "       [8.13971972e-04, 8.72563541e-01, 1.27175068e-02, 6.62844330e-02,\n",
              "        8.60219821e-04, 4.67603579e-02],\n",
              "       [1.14174873e-01, 8.75358358e-02, 8.09440240e-02, 4.95312929e-01,\n",
              "        1.11869186e-01, 1.10163145e-01],\n",
              "       [1.36203781e-01, 2.78085023e-01, 2.16649577e-01, 3.32889646e-01,\n",
              "        3.48012000e-02, 1.37075246e-03],\n",
              "       [6.52505551e-03, 1.40761063e-02, 2.91975260e-01, 5.72298050e-01,\n",
              "        1.02148466e-01, 1.29770553e-02],\n",
              "       [5.10151498e-02, 1.48208976e-01, 2.01606676e-01, 3.84030759e-01,\n",
              "        7.03286231e-02, 1.44809932e-01],\n",
              "       [5.21449625e-01, 6.58178478e-02, 9.71805379e-02, 2.28495657e-01,\n",
              "        4.39666957e-02, 4.30896357e-02],\n",
              "       [2.76850513e-03, 1.66368820e-02, 4.75137383e-01, 4.76790339e-01,\n",
              "        2.51367968e-02, 3.53020895e-03],\n",
              "       [2.11640876e-02, 1.13382870e-02, 3.43703628e-01, 5.59086025e-01,\n",
              "        3.54987122e-02, 2.92092469e-02],\n",
              "       [5.97090982e-02, 1.81947611e-02, 3.39121550e-01, 4.97558534e-01,\n",
              "        7.27240741e-02, 1.26919895e-02],\n",
              "       [1.07123356e-04, 4.66397149e-04, 8.91688187e-03, 7.10900187e-01,\n",
              "        1.51855201e-01, 1.27754197e-01],\n",
              "       [3.95327434e-03, 9.40245285e-04, 4.09226507e-01, 5.54506004e-01,\n",
              "        3.09359115e-02, 4.37984214e-04],\n",
              "       [6.40411749e-02, 2.67360002e-01, 2.23216757e-01, 3.78993452e-01,\n",
              "        3.27032134e-02, 3.36854309e-02],\n",
              "       [4.14542621e-03, 5.16268074e-06, 1.12678772e-02, 6.95377886e-01,\n",
              "        2.89194196e-01, 9.38431458e-06],\n",
              "       [3.63680810e-01, 9.47361439e-03, 3.12761843e-01, 2.64455557e-01,\n",
              "        4.89766747e-02, 6.51487440e-04],\n",
              "       [3.97190809e-01, 9.99902096e-03, 2.82995909e-01, 2.63540715e-01,\n",
              "        4.11201864e-02, 5.15337894e-03],\n",
              "       [1.83350388e-02, 2.41376460e-02, 2.13930774e-02, 7.33911574e-01,\n",
              "        6.70442209e-02, 1.35178342e-01],\n",
              "       [4.39033005e-03, 6.49994493e-01, 1.35862544e-01, 1.97731674e-01,\n",
              "        1.16672534e-02, 3.53674171e-04],\n",
              "       [3.12627852e-02, 3.57973933e-01, 1.14074297e-01, 3.10038745e-01,\n",
              "        7.40716755e-02, 1.12578519e-01],\n",
              "       [7.78397501e-01, 3.17835947e-03, 3.95671763e-02, 1.49864018e-01,\n",
              "        2.89569777e-02, 3.59549085e-05],\n",
              "       [1.11330301e-02, 2.62363523e-01, 9.53585207e-02, 3.42471153e-01,\n",
              "        1.55980915e-01, 1.32692859e-01],\n",
              "       [9.58026871e-02, 2.39114702e-01, 1.32602125e-01, 4.17269558e-01,\n",
              "        1.06415927e-01, 8.79499223e-03],\n",
              "       [6.31488918e-04, 2.17586197e-03, 3.16220038e-02, 6.14858687e-01,\n",
              "        2.05451295e-01, 1.45260662e-01],\n",
              "       [1.36270076e-01, 6.36220574e-02, 3.82902712e-01, 4.02402699e-01,\n",
              "        9.21317097e-03, 5.58928307e-03],\n",
              "       [3.11366674e-02, 3.26226711e-01, 1.21086806e-01, 3.22784066e-01,\n",
              "        1.53017715e-01, 4.57480885e-02],\n",
              "       [3.22259986e-03, 6.97846487e-02, 1.54188186e-01, 7.08433032e-01,\n",
              "        1.19364373e-02, 5.24350516e-02],\n",
              "       [3.50117505e-01, 5.10405824e-02, 7.49461874e-02, 3.63687992e-01,\n",
              "        8.42641965e-02, 7.59434849e-02],\n",
              "       [3.20191053e-03, 8.31002831e-01, 4.98870909e-02, 8.18775520e-02,\n",
              "        2.38666106e-02, 1.01640020e-02],\n",
              "       [8.08950572e-04, 7.45941303e-04, 1.27112651e-02, 5.35594940e-01,\n",
              "        4.35010910e-01, 1.51279522e-02],\n",
              "       [6.14137296e-03, 7.03660190e-01, 3.56140658e-02, 1.74214423e-01,\n",
              "        6.53427243e-02, 1.50271459e-02],\n",
              "       [1.03025641e-02, 7.72767186e-01, 1.04800843e-01, 1.00693211e-01,\n",
              "        8.03639181e-03, 3.39982193e-03],\n",
              "       [4.13028647e-05, 1.67201302e-04, 5.38222045e-02, 9.40224111e-01,\n",
              "        5.67523763e-03, 6.99511220e-05],\n",
              "       [6.10919483e-02, 1.63607314e-01, 5.60855716e-02, 5.06784201e-01,\n",
              "        1.14036970e-01, 9.83940139e-02],\n",
              "       [1.69394799e-02, 6.38028188e-03, 2.16101378e-01, 7.22545445e-01,\n",
              "        3.26097547e-03, 3.47723998e-02],\n",
              "       [3.70598794e-03, 4.55343351e-03, 4.22736675e-01, 5.03012717e-01,\n",
              "        6.15855604e-02, 4.40568756e-03],\n",
              "       [6.18464708e-01, 1.23478901e-02, 1.70136079e-01, 1.94146886e-01,\n",
              "        4.14780620e-03, 7.56672351e-04],\n",
              "       [2.13303114e-03, 1.67687749e-03, 1.16723143e-02, 5.19648910e-01,\n",
              "        4.28674281e-01, 3.61946262e-02],\n",
              "       [1.32874795e-03, 2.67409574e-04, 2.34976560e-01, 7.48999894e-01,\n",
              "        1.41271017e-02, 3.00225132e-04],\n",
              "       [2.51112394e-02, 9.63130370e-02, 3.48725021e-01, 4.14152414e-01,\n",
              "        7.42187425e-02, 4.14795727e-02],\n",
              "       [1.79932831e-04, 5.01071755e-03, 2.42216773e-02, 6.56466663e-01,\n",
              "        2.11939141e-01, 1.02181859e-01],\n",
              "       [1.59263334e-04, 1.77483438e-04, 3.77048045e-01, 6.17532492e-01,\n",
              "        1.06655224e-03, 4.01618239e-03],\n",
              "       [5.86209295e-04, 5.12575556e-04, 1.13868294e-02, 4.70475137e-01,\n",
              "        5.02789736e-01, 1.42494533e-02],\n",
              "       [1.20483357e-02, 9.70036141e-04, 6.53358772e-02, 6.82495952e-01,\n",
              "        2.18946040e-01, 2.02037394e-02],\n",
              "       [2.51264451e-03, 3.31227807e-03, 9.03663486e-02, 5.98313630e-01,\n",
              "        2.63204604e-01, 4.22905795e-02],\n",
              "       [5.32928249e-03, 4.06347662e-02, 5.31446278e-01, 3.84796262e-01,\n",
              "        2.91242693e-02, 8.66917148e-03],\n",
              "       [3.03061996e-02, 8.23150426e-02, 2.39765063e-01, 4.44352537e-01,\n",
              "        1.48498446e-01, 5.47627062e-02],\n",
              "       [2.83717847e-04, 1.40375560e-02, 1.64670299e-03, 7.07914412e-01,\n",
              "        1.97515581e-02, 2.56366074e-01],\n",
              "       [2.36706779e-04, 1.05129570e-01, 1.74584500e-02, 5.48987150e-01,\n",
              "        1.19496966e-02, 3.16238403e-01],\n",
              "       [2.73891748e-03, 5.95397592e-01, 6.30855858e-02, 2.15878978e-01,\n",
              "        4.32688259e-02, 7.96300843e-02],\n",
              "       [8.57994519e-03, 5.35369478e-02, 2.08983384e-02, 5.86921692e-01,\n",
              "        1.77144594e-02, 3.12348574e-01],\n",
              "       [6.72990859e-01, 5.33144176e-03, 5.47486693e-02, 1.81482032e-01,\n",
              "        7.99558014e-02, 5.49123017e-03],\n",
              "       [1.93922654e-01, 1.50188833e-01, 1.98544279e-01, 3.38542402e-01,\n",
              "        8.75908732e-02, 3.12110242e-02],\n",
              "       [3.51380114e-03, 3.22224498e-01, 1.72295440e-02, 4.42636281e-01,\n",
              "        5.83271980e-02, 1.56068712e-01],\n",
              "       [2.93246865e-01, 1.66871492e-02, 2.14011461e-01, 3.69975805e-01,\n",
              "        9.51093212e-02, 1.09694926e-02],\n",
              "       [5.76914346e-04, 4.31287169e-01, 1.76708579e-01, 3.44805330e-01,\n",
              "        4.10815850e-02, 5.54039655e-03],\n",
              "       [2.81373644e-03, 8.00879498e-04, 2.27696642e-01, 7.62608826e-01,\n",
              "        5.39320847e-03, 6.86762331e-04],\n",
              "       [1.55273620e-02, 6.17311336e-02, 1.11341298e-01, 6.98414862e-01,\n",
              "        9.59690213e-02, 1.70162916e-02],\n",
              "       [2.80156415e-02, 3.18357046e-03, 2.10795611e-01, 7.33878434e-01,\n",
              "        2.06018481e-02, 3.52493348e-03],\n",
              "       [7.46459980e-03, 2.13763654e-01, 1.35046721e-01, 4.06722426e-01,\n",
              "        9.72209051e-02, 1.39781743e-01],\n",
              "       [1.32162031e-02, 1.49188396e-02, 7.36655528e-03, 5.68225205e-01,\n",
              "        2.25360319e-01, 1.70912862e-01],\n",
              "       [9.47037563e-02, 5.81723899e-02, 2.48593837e-01, 4.13271099e-01,\n",
              "        1.35655731e-01, 4.96031940e-02],\n",
              "       [7.56008625e-02, 1.54952198e-01, 2.21446499e-01, 5.31797290e-01,\n",
              "        1.50835263e-02, 1.11958175e-03],\n",
              "       [2.48574978e-03, 4.49844897e-01, 1.81212828e-01, 3.65954131e-01,\n",
              "        3.73591261e-04, 1.28782020e-04],\n",
              "       [9.34228674e-02, 2.20034830e-02, 3.64559770e-01, 5.15201628e-01,\n",
              "        3.65217146e-03, 1.16009603e-03],\n",
              "       [3.59310329e-01, 4.19937409e-02, 6.52789846e-02, 4.25624430e-01,\n",
              "        7.52265528e-02, 3.25659029e-02],\n",
              "       [1.30830733e-02, 1.68879986e-01, 4.94829752e-02, 4.49109435e-01,\n",
              "        9.89084914e-02, 2.20536098e-01],\n",
              "       [7.09602386e-02, 1.66916568e-02, 1.23415746e-01, 3.86173189e-01,\n",
              "        3.64577383e-01, 3.81817482e-02],\n",
              "       [7.67199148e-04, 1.32824421e-01, 3.08136880e-01, 5.57204485e-01,\n",
              "        6.31310453e-04, 4.35809256e-04],\n",
              "       [5.85386097e-01, 7.97279850e-02, 1.28453776e-01, 1.93545431e-01,\n",
              "        1.10185640e-02, 1.86813751e-03],\n",
              "       [2.76698079e-02, 7.79612437e-02, 3.20760489e-01, 4.27209556e-01,\n",
              "        1.10423423e-01, 3.59754823e-02],\n",
              "       [4.88337129e-03, 1.47501458e-04, 3.62843215e-01, 6.14357173e-01,\n",
              "        1.77578144e-02, 1.09322873e-05],\n",
              "       [1.01234987e-02, 2.38459751e-01, 6.16598018e-02, 4.06549871e-01,\n",
              "        1.94947422e-01, 8.82596597e-02],\n",
              "       [1.99296279e-04, 3.46232695e-03, 4.49183099e-02, 5.59402347e-01,\n",
              "        1.58048123e-02, 3.76212925e-01],\n",
              "       [4.53296583e-04, 8.08877230e-04, 5.31766564e-02, 7.05040157e-01,\n",
              "        2.18230695e-01, 2.22903360e-02],\n",
              "       [5.84213110e-03, 7.02877641e-01, 3.88791151e-02, 1.72093973e-01,\n",
              "        3.53054553e-02, 4.50016074e-02],\n",
              "       [1.02059003e-02, 2.69225329e-01, 4.11496833e-02, 4.42615658e-01,\n",
              "        1.29333168e-01, 1.07470274e-01],\n",
              "       [1.57802453e-04, 4.72746044e-03, 2.91751884e-02, 6.93142354e-01,\n",
              "        1.60669893e-01, 1.12127289e-01],\n",
              "       [1.64097597e-04, 9.47458923e-01, 2.45079882e-02, 2.76545640e-02,\n",
              "        1.82228541e-04, 3.21839325e-05],\n",
              "       [6.71179499e-04, 5.91078016e-04, 2.57699430e-01, 7.00906157e-01,\n",
              "        3.97426412e-02, 3.89479334e-04],\n",
              "       [4.66976548e-03, 5.51244663e-03, 2.40182668e-01, 6.59830630e-01,\n",
              "        8.37459564e-02, 6.05860492e-03],\n",
              "       [1.31898699e-03, 2.45772745e-03, 3.43117416e-01, 5.90175927e-01,\n",
              "        6.07119203e-02, 2.21808697e-03],\n",
              "       [1.39237763e-02, 5.35961449e-01, 3.81756723e-02, 2.41962269e-01,\n",
              "        1.02835275e-01, 6.71415702e-02],\n",
              "       [1.19016075e-03, 8.90046775e-01, 2.54869349e-02, 7.31327161e-02,\n",
              "        7.70314224e-03, 2.44029122e-03],\n",
              "       [4.00371570e-03, 2.93676672e-03, 5.65756559e-01, 4.03989971e-01,\n",
              "        2.15538219e-02, 1.75913924e-03],\n",
              "       [1.47836865e-03, 4.43312712e-03, 3.42765540e-01, 5.90234458e-01,\n",
              "        5.78601398e-02, 3.22837033e-03],\n",
              "       [2.49607139e-04, 2.74106190e-02, 2.12101147e-01, 6.79239750e-01,\n",
              "        6.40152022e-02, 1.69836823e-02],\n",
              "       [6.30853290e-04, 9.40551639e-01, 2.63279118e-02, 2.79542692e-02,\n",
              "        2.73315469e-03, 1.80215319e-03],\n",
              "       [1.39838597e-02, 8.81212801e-02, 6.60316125e-02, 6.46698236e-01,\n",
              "        1.32171378e-01, 5.29936068e-02],\n",
              "       [6.98366435e-03, 4.64601163e-03, 2.57187575e-01, 6.87239349e-01,\n",
              "        1.76598635e-02, 2.62834951e-02],\n",
              "       [4.52488987e-03, 5.01944123e-05, 1.04066312e-01, 8.63368452e-01,\n",
              "        2.79871337e-02, 3.04622654e-06],\n",
              "       [4.31397784e-04, 5.72404921e-01, 1.69825718e-01, 2.22852215e-01,\n",
              "        2.10503284e-02, 1.34354718e-02],\n",
              "       [1.25839142e-02, 9.69649013e-03, 8.64797533e-02, 7.08934247e-01,\n",
              "        1.02928691e-01, 7.93769807e-02],\n",
              "       [5.22977412e-01, 4.46803272e-02, 1.24337912e-01, 2.49766678e-01,\n",
              "        5.25944866e-02, 5.64320758e-03],\n",
              "       [9.35231429e-03, 1.83246598e-01, 8.95526931e-02, 4.50192988e-01,\n",
              "        1.70840338e-01, 9.68150571e-02],\n",
              "       [1.22968517e-02, 1.30634308e-01, 1.51032712e-02, 4.34541136e-01,\n",
              "        3.46509248e-01, 6.09153062e-02],\n",
              "       [6.05712004e-04, 7.24991858e-01, 4.58860993e-02, 1.94465876e-01,\n",
              "        1.31730232e-02, 2.08775532e-02]], dtype=float32)"
            ]
          },
          "metadata": {},
          "execution_count": 19
        }
      ]
    },
    {
      "cell_type": "code",
      "source": [
        ""
      ],
      "metadata": {
        "id": "g8x4q29uTNdp"
      },
      "execution_count": null,
      "outputs": []
    }
  ]
}